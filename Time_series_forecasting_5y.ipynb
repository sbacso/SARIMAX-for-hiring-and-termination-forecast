{
 "cells": [
  {
   "cell_type": "markdown",
   "metadata": {},
   "source": [
    "## Import libraries and load data"
   ]
  },
  {
   "cell_type": "code",
   "execution_count": null,
   "metadata": {},
   "outputs": [],
   "source": [
    "# import libraries\n",
    "import numpy as np\n",
    "import pandas as pd\n",
    "import matplotlib.pyplot as plt\n",
    "from statsmodels.tsa.stattools import adfuller\n",
    "import statsmodels.api as sm\n",
    "from statsmodels.graphics.tsaplots import plot_acf, plot_pacf\n",
    "from sklearn.metrics import mean_squared_error as mse\n",
    "import itertools\n",
    "from pandas.tseries.offsets import DateOffset, MonthEnd\n",
    "%matplotlib inline\n",
    "import warnings\n",
    "warnings.filterwarnings(\"ignore\")\n"
   ]
  },
  {
   "cell_type": "code",
   "execution_count": null,
   "metadata": {},
   "outputs": [],
   "source": [
    "# load data\n",
    "data = pd.read_excel('5y_HE_forecast.xlsx', parse_dates=True)"
   ]
  },
  {
   "cell_type": "code",
   "execution_count": null,
   "metadata": {},
   "outputs": [],
   "source": [
    "# select subset (Termination or Hiring) and resample it to month level\n",
    "row_sel = data.loc[data['Action Type'] != 'Termination']\n",
    "col_sel = row_sel[['Start Date', 'Personnel Number']]\n",
    "col_sel = col_sel.set_index(['Start Date'])\n",
    "df = col_sel.resample('M').count()"
   ]
  },
  {
   "cell_type": "markdown",
   "metadata": {},
   "source": [
    "## Divide data into Training and Testing"
   ]
  },
  {
   "cell_type": "code",
   "execution_count": null,
   "metadata": {},
   "outputs": [],
   "source": [
    "# total observation: 66; use 56 for training and 10 for testing\n",
    "train, test = df.iloc[:56], df.iloc[56:]"
   ]
  },
  {
   "cell_type": "markdown",
   "metadata": {},
   "source": [
    "## Explore data"
   ]
  },
  {
   "cell_type": "code",
   "execution_count": null,
   "metadata": {},
   "outputs": [],
   "source": [
    "# a log transform can be used to lower the rate at which rolling mean increases and flatten out exponential change back to a linear relationship\n",
    "df_log = np.log(df)\n",
    "# plot data\n",
    "fig, (ax1, ax2) = plt.subplots(1, 2, figsize=(16, 2))\n",
    "ax1.plot(df)\n",
    "ax1.set_title('original')\n",
    "ax2.plot(df_log)\n",
    "ax2.set_title('log')\n",
    "plt.show()"
   ]
  },
  {
   "cell_type": "code",
   "execution_count": null,
   "metadata": {},
   "outputs": [],
   "source": [
    "# plot distribution of employee counts and check if data conforms to a Gaussian distribution\n",
    "fig_d, (axd1, axd2) = plt.subplots(1, 2, figsize=(12, 2))\n",
    "axd1.hist(df['Personnel Number'])\n",
    "axd1.set_title('original')\n",
    "axd2.hist(df_log['Personnel Number'])\n",
    "axd2.set_title('log')\n",
    "plt.show()\n"
   ]
  },
  {
   "cell_type": "markdown",
   "metadata": {},
   "source": [
    "### Use rolling statistics and Augmented Dickey Fuller test to check stationarity\n",
    "Conclusion from the test below: p-value is small on df_diff (I1), d is likely to be 1 in ARIMA"
   ]
  },
  {
   "cell_type": "code",
   "execution_count": null,
   "metadata": {},
   "outputs": [],
   "source": [
    "# write a function to check stationarity\n",
    "def check_stationarity(timeseries):\n",
    "    # rolling statistics\n",
    "    rolling_mean = timeseries.rolling(window=12).mean()\n",
    "    rolling_std = timeseries.rolling(window=12).std()\n",
    "    # rolling statistics plot\n",
    "    original = plt.plot(timeseries, color='blue', label='Original')\n",
    "    mean = plt.plot(rolling_mean, color='red', label='Rolling Mean')\n",
    "    std = plt.plot(rolling_std, color='black', label='Rolling Std')\n",
    "    plt.legend(loc='best')\n",
    "    plt.title('Rolling Statistics')\n",
    "    plt.show(block=False)\n",
    "    # Dickey–Fuller test:\n",
    "    result = adfuller(timeseries['Personnel Number'])\n",
    "    print('ADF Statistic: {}'.format(result[0]))\n",
    "    print('p-value: {}'.format(result[1]))\n",
    "    print('Critical Values:')\n",
    "    for key, value in result[4].items():\n",
    "        print('\\t{}: {}'.format(key, value))\n"
   ]
  },
  {
   "cell_type": "code",
   "execution_count": null,
   "metadata": {
    "tags": []
   },
   "outputs": [],
   "source": [
    "# original df\n",
    "check_stationarity(df)\n"
   ]
  },
  {
   "cell_type": "code",
   "execution_count": null,
   "metadata": {
    "tags": []
   },
   "outputs": [],
   "source": [
    "# df_log\n",
    "check_stationarity(df_log)"
   ]
  },
  {
   "cell_type": "code",
   "execution_count": null,
   "metadata": {
    "tags": []
   },
   "outputs": [],
   "source": [
    "# df_diff\n",
    "df_diff = df.diff(1)\n",
    "check_stationarity(df_diff[1:])"
   ]
  },
  {
   "cell_type": "markdown",
   "metadata": {},
   "source": [
    "### Use Auto Correlation Function and Partial Auto Correlation Function to check stationarity\n",
    "Conclusion from the test below: both ACF and PACF show sudden decay at lag 1, the original data seems fairly stationary"
   ]
  },
  {
   "cell_type": "code",
   "execution_count": null,
   "metadata": {},
   "outputs": [],
   "source": [
    "# ACF -> MA(q), PACF -> AR(p)\n",
    "acf = plot_acf(df['Personnel Number'], lags=40)\n",
    "pacf = plot_pacf(df['Personnel Number'], lags=40)\n"
   ]
  },
  {
   "cell_type": "markdown",
   "metadata": {},
   "source": [
    "## Find the best hyperparameters by grid searching\n",
    "The function takes two parameters, training dataset and an eval metric (aic or bic). \n",
    "- This first part loops though all the variations of parameters (for order and seasonal_order), and collects that into a dictionary.\n",
    "- The second part finds the best hyperparameters from the dictionary and then fits the model. \n",
    "- The output is a dictionary with the model, aic, bic, order tuple and seasonal_order tuple."
   ]
  },
  {
   "cell_type": "code",
   "execution_count": null,
   "metadata": {},
   "outputs": [],
   "source": [
    "def find_best_sarima(train, eval_metric):\n",
    "    \n",
    "    p = d = q = range(0, 2)\n",
    "    pdq = list(itertools.product(p, d, q))\n",
    "    seasonal_pdq = [(x[0], x[1], x[2], 12) for x in pdq]\n",
    "\n",
    "    counter = 0\n",
    "    resultDict = {}\n",
    "    \n",
    "    for param in pdq:\n",
    "        for param_seasonal in seasonal_pdq:\n",
    "            try:\n",
    "                counter += 1\n",
    "                mod = sm.tsa.statespace.SARIMAX(train,\n",
    "                                                order=param,\n",
    "                                                seasonal_order=param_seasonal,\n",
    "                                                enforce_stationarity=False,\n",
    "                                                enforce_invertibility=False)\n",
    "\n",
    "                results = mod.fit()\n",
    "                resultDict[counter] = [results.aic, results.bic, param, param_seasonal]\n",
    "\n",
    "            except:\n",
    "                continue\n",
    "                \n",
    "    dict_to_df = pd.DataFrame.from_dict(resultDict, orient='index')\n",
    "    \n",
    "    if eval_metric == 'aic':\n",
    "        best_run = dict_to_df[dict_to_df[0] == dict_to_df[0].min()].index.values\n",
    "        best_run = best_run[0]\n",
    "    elif eval_metric == 'bic':\n",
    "        best_run = dict_to_df[dict_to_df[1] == dict_to_df[1].min()].index.values\n",
    "        best_run = best_run[0]\n",
    "            \n",
    "    model = sm.tsa.statespace.SARIMAX(train,\n",
    "                                      order=resultDict[best_run][2],\n",
    "                                      seasonal_order=resultDict[best_run][3],\n",
    "                                      enforce_stationarity=False,\n",
    "                                      enforce_invertibility=False).fit()\n",
    "    \n",
    "    best_param = {'model':model, \n",
    "                  'aic':model.aic,\n",
    "                  'bic':model.bic,\n",
    "                  'order':resultDict[best_run][2], \n",
    "                  'seasonal_order':resultDict[best_run][3]}\n",
    "    \n",
    "    return best_param"
   ]
  },
  {
   "cell_type": "code",
   "execution_count": null,
   "metadata": {
    "tags": []
   },
   "outputs": [],
   "source": [
    "# call function and show the result\n",
    "best = find_best_sarima(train, 'aic')\n",
    "best"
   ]
  },
  {
   "cell_type": "code",
   "execution_count": null,
   "metadata": {},
   "outputs": [],
   "source": [
    "# generate prediction using the model from the best dictionary\n",
    "pred = best['model'].predict(start=test.index[0], end=test.index[-1], dynamic=True)\n",
    "df['Forecast'] = pred"
   ]
  },
  {
   "cell_type": "code",
   "execution_count": null,
   "metadata": {},
   "outputs": [],
   "source": [
    "# check mean squared error\n",
    "mse(test, pred)"
   ]
  },
  {
   "cell_type": "code",
   "execution_count": null,
   "metadata": {},
   "outputs": [],
   "source": [
    "def plot_test(pred):\n",
    "    # plot the prediction with the actuals\n",
    "    plt.figure(figsize=(16, 8))\n",
    "    plt.plot(train.index, train, label='Train')\n",
    "    plt.plot(pred.index, pred, label='SARIMA', color='r')\n",
    "    plt.plot(test.index, test, label='Test', color='k')\n",
    "    plt.legend(loc='best', fontsize='large')\n",
    "    return plt.show()"
   ]
  },
  {
   "cell_type": "code",
   "execution_count": null,
   "metadata": {},
   "outputs": [],
   "source": [
    "plot_test(pred)"
   ]
  },
  {
   "cell_type": "markdown",
   "metadata": {},
   "source": [
    "### Try with manually input orders\n",
    "Conclusion: although mse seems slightly lower on this set of hyperparameters, the result produced by grid search seems better visually."
   ]
  },
  {
   "cell_type": "code",
   "execution_count": null,
   "metadata": {},
   "outputs": [],
   "source": [
    "# fit the model\n",
    "mod_manual = sm.tsa.statespace.SARIMAX(train,\n",
    "                                      order=(0,0,1),\n",
    "                                      seasonal_order=(3,0,1,12),\n",
    "                                      enforce_stationarity=False,\n",
    "                                      enforce_invertibility=False).fit()"
   ]
  },
  {
   "cell_type": "code",
   "execution_count": null,
   "metadata": {},
   "outputs": [],
   "source": [
    "# predict\n",
    "pred2 = mod_manual.predict(start=test.index[0], end=test.index[-1], dynamic=True)"
   ]
  },
  {
   "cell_type": "code",
   "execution_count": null,
   "metadata": {},
   "outputs": [],
   "source": [
    "# check mean squared error\n",
    "mse(test, pred2)"
   ]
  },
  {
   "cell_type": "code",
   "execution_count": null,
   "metadata": {},
   "outputs": [],
   "source": [
    "plot_test(pred2)"
   ]
  },
  {
   "cell_type": "markdown",
   "metadata": {},
   "source": [
    "## Produce the forecast result"
   ]
  },
  {
   "cell_type": "code",
   "execution_count": null,
   "metadata": {},
   "outputs": [],
   "source": [
    "# create future dates\n",
    "future_dates = [df.index[-1] + pd.offsets.MonthEnd(x) for x in range(0, 15)]\n",
    "future_dates_df = pd.DataFrame(index=future_dates[1:], columns=df.columns)\n"
   ]
  },
  {
   "cell_type": "code",
   "execution_count": null,
   "metadata": {},
   "outputs": [],
   "source": [
    "# concat 2 dfs\n",
    "forecast_df = pd.concat([df, future_dates_df])"
   ]
  },
  {
   "cell_type": "code",
   "execution_count": null,
   "metadata": {},
   "outputs": [],
   "source": [
    "# fit the model and create forecast\n",
    "forecast = best['model'].forecast(steps=24, dynamic=True)\n",
    "forecast_df['Forecast'] = forecast\n"
   ]
  },
  {
   "cell_type": "code",
   "execution_count": null,
   "metadata": {},
   "outputs": [],
   "source": [
    "# plot the forecast\n",
    "plt.figure(figsize=(16, 8))\n",
    "plt.plot(forecast_df.index, forecast_df['Personnel Number'], label='Real_number')\n",
    "plt.plot(forecast.index, forecast, label='Forecast', color='orange')\n",
    "plt.legend(loc='best', fontsize='large')\n",
    "plt.show()"
   ]
  },
  {
   "cell_type": "code",
   "execution_count": null,
   "metadata": {},
   "outputs": [],
   "source": [
    "# print out forecast\n",
    "forecast_df.loc[forecast_df['Personnel Number'].isnull()]"
   ]
  },
  {
   "cell_type": "markdown",
   "metadata": {},
   "source": [
    "### -- The application ends --\n",
    "### The following is for experimenting on the grid search and printing out the results. \n",
    "Beyond range(0, 3) it could take a long time to run."
   ]
  },
  {
   "cell_type": "code",
   "execution_count": null,
   "metadata": {
    "tags": [
     "outputPrepend"
    ]
   },
   "outputs": [],
   "source": [
    "p = d = q = range(0, 3)\n",
    "pdq = list(itertools.product(p, d, q))\n",
    "seasonal_pdq = [(x[0], x[1], x[2], 12) for x in pdq]\n",
    "\n",
    "for param in pdq:\n",
    "    for param_seasonal in seasonal_pdq:\n",
    "        try:\n",
    "            mod = sm.tsa.statespace.SARIMAX(train,\n",
    "                                            order=param,\n",
    "                                            seasonal_order=param_seasonal,\n",
    "                                            enforce_stationarity=False,\n",
    "                                            enforce_invertibility=False)\n",
    "\n",
    "            results = mod.fit()\n",
    "            \n",
    "            print('ARIMA{}x{}12 - AIC:{} - BIC:{}'.format(param, \n",
    "                                                          param_seasonal, \n",
    "                                                          results.aic, \n",
    "                                                          results.bic))\n",
    "\n",
    "        except:\n",
    "            continue"
   ]
  },
  {
   "cell_type": "code",
   "execution_count": null,
   "metadata": {},
   "outputs": [],
   "source": [
    "results.aic.min()"
   ]
  },
  {
   "cell_type": "code",
   "execution_count": null,
   "metadata": {},
   "outputs": [],
   "source": []
  }
 ],
 "metadata": {
  "language_info": {
   "codemirror_mode": {
    "name": "ipython",
    "version": 3
   },
   "file_extension": ".py",
   "mimetype": "text/x-python",
   "name": "python",
   "nbconvert_exporter": "python",
   "pygments_lexer": "ipython3",
   "version": 3
  },
  "orig_nbformat": 2,
  "kernelspec": {
   "name": "python_defaultSpec_1595494778539",
   "display_name": "Python 3.7.4 64-bit ('base': conda)"
  }
 },
 "nbformat": 4,
 "nbformat_minor": 2
}